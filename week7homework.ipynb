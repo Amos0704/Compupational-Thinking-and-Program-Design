{
  "nbformat": 4,
  "nbformat_minor": 0,
  "metadata": {
    "colab": {
      "name": "week7homework",
      "provenance": []
    },
    "kernelspec": {
      "name": "python3",
      "display_name": "Python 3"
    }
  },
  "cells": [
    {
      "cell_type": "code",
      "metadata": {
        "id": "GBnAsVBlc4pI",
        "colab_type": "code",
        "colab": {}
      },
      "source": [
        "movie_title=\"梨泰院\""
      ],
      "execution_count": 0,
      "outputs": []
    },
    {
      "cell_type": "code",
      "metadata": {
        "id": "B2t4IBe_daST",
        "colab_type": "code",
        "colab": {}
      },
      "source": [
        "release_year='2020'"
      ],
      "execution_count": 0,
      "outputs": []
    },
    {
      "cell_type": "code",
      "metadata": {
        "id": "TYhYkPM7djB5",
        "colab_type": "code",
        "colab": {
          "base_uri": "https://localhost:8080/",
          "height": 130
        },
        "outputId": "c527ddb6-0dfd-4296-874c-0435ba48e634"
      },
      "source": [
        "movie_episode＝16"
      ],
      "execution_count": 17,
      "outputs": [
        {
          "output_type": "error",
          "ename": "SyntaxError",
          "evalue": "ignored",
          "traceback": [
            "\u001b[0;36m  File \u001b[0;32m\"<ipython-input-17-cfaeb2272f95>\"\u001b[0;36m, line \u001b[0;32m1\u001b[0m\n\u001b[0;31m    movie_episode＝16\u001b[0m\n\u001b[0m                   ^\u001b[0m\n\u001b[0;31mSyntaxError\u001b[0m\u001b[0;31m:\u001b[0m invalid character in identifier\n"
          ]
        }
      ]
    },
    {
      "cell_type": "code",
      "metadata": {
        "id": "WfUDj2MeeJy8",
        "colab_type": "code",
        "colab": {}
      },
      "source": [
        "movie_rating=8.3"
      ],
      "execution_count": 0,
      "outputs": []
    },
    {
      "cell_type": "code",
      "metadata": {
        "id": "5HZOGQ16eguf",
        "colab_type": "code",
        "colab": {}
      },
      "source": [
        "director1=\"金成允\""
      ],
      "execution_count": 0,
      "outputs": []
    },
    {
      "cell_type": "code",
      "metadata": {
        "id": "5I7pK2tdexYo",
        "colab_type": "code",
        "colab": {}
      },
      "source": [
        "director2=\"姜敏九\""
      ],
      "execution_count": 0,
      "outputs": []
    },
    {
      "cell_type": "code",
      "metadata": {
        "id": "uvyC4sKtfFid",
        "colab_type": "code",
        "colab": {}
      },
      "source": [
        "star_1=\"朴敘俊\""
      ],
      "execution_count": 0,
      "outputs": []
    },
    {
      "cell_type": "code",
      "metadata": {
        "id": "QduVZIJZfR2t",
        "colab_type": "code",
        "colab": {}
      },
      "source": [
        "star_2=\"金多美\""
      ],
      "execution_count": 0,
      "outputs": []
    },
    {
      "cell_type": "code",
      "metadata": {
        "id": "asKXirI4fYoB",
        "colab_type": "code",
        "colab": {}
      },
      "source": [
        "star_3=\"權娜拉\""
      ],
      "execution_count": 0,
      "outputs": []
    },
    {
      "cell_type": "code",
      "metadata": {
        "id": "jih2cV6ofehW",
        "colab_type": "code",
        "colab": {}
      },
      "source": [
        "star_4=\"劉在明\""
      ],
      "execution_count": 0,
      "outputs": []
    },
    {
      "cell_type": "code",
      "metadata": {
        "id": "pun-mrsrftXb",
        "colab_type": "code",
        "colab": {}
      },
      "source": [
        "like=1"
      ],
      "execution_count": 0,
      "outputs": []
    },
    {
      "cell_type": "code",
      "metadata": {
        "id": "cW5Ye7euf1Qr",
        "colab_type": "code",
        "colab": {
          "base_uri": "https://localhost:8080/",
          "height": 34
        },
        "outputId": "40f4bb5d-ede2-4c69-9091-fe6932356f4f"
      },
      "source": [
        "print(movie_title)"
      ],
      "execution_count": 13,
      "outputs": [
        {
          "output_type": "stream",
          "text": [
            "梨泰院\n"
          ],
          "name": "stdout"
        }
      ]
    },
    {
      "cell_type": "code",
      "metadata": {
        "id": "cxx9AT5Wf8sA",
        "colab_type": "code",
        "colab": {
          "base_uri": "https://localhost:8080/",
          "height": 34
        },
        "outputId": "5850785e-416d-4d1b-c238-80809466f88d"
      },
      "source": [
        "print(release_year)"
      ],
      "execution_count": 14,
      "outputs": [
        {
          "output_type": "stream",
          "text": [
            "2020\n"
          ],
          "name": "stdout"
        }
      ]
    },
    {
      "cell_type": "code",
      "metadata": {
        "id": "TGI-9bYxgJof",
        "colab_type": "code",
        "colab": {
          "base_uri": "https://localhost:8080/",
          "height": 34
        },
        "outputId": "429b0f84-11a0-459d-cf42-aa7c8a424dff"
      },
      "source": [
        "print(movie_rating)"
      ],
      "execution_count": 15,
      "outputs": [
        {
          "output_type": "stream",
          "text": [
            "8.3\n"
          ],
          "name": "stdout"
        }
      ]
    }
  ]
}