{
  "nbformat": 4,
  "nbformat_minor": 0,
  "metadata": {
    "colab": {
      "name": "week12.ipynb",
      "provenance": []
    },
    "kernelspec": {
      "name": "python3",
      "display_name": "Python 3"
    }
  },
  "cells": [
    {
      "cell_type": "code",
      "metadata": {
        "id": "m3YrIv5bunn9",
        "colab_type": "code",
        "colab": {
          "base_uri": "https://localhost:8080/",
          "height": 34
        },
        "outputId": "1435dfd3-140a-456a-9a6f-9fc2d02f7fb7"
      },
      "source": [
        "noodle = input(\"有麵嗎?(YES/NO)\")"
      ],
      "execution_count": 12,
      "outputs": [
        {
          "output_type": "stream",
          "text": [
            "有麵嗎?(YES/NO)YES\n"
          ],
          "name": "stdout"
        }
      ]
    },
    {
      "cell_type": "code",
      "metadata": {
        "id": "TqsIQLYCv67M",
        "colab_type": "code",
        "colab": {
          "base_uri": "https://localhost:8080/",
          "height": 34
        },
        "outputId": "19da4b60-8d20-4275-c0b7-93e62938e86b"
      },
      "source": [
        "sauce = input(\"有醬料嗎?(YES/NO)\")"
      ],
      "execution_count": 13,
      "outputs": [
        {
          "output_type": "stream",
          "text": [
            "有醬料嗎?(YES/NO)YES\n"
          ],
          "name": "stdout"
        }
      ]
    },
    {
      "cell_type": "code",
      "metadata": {
        "id": "nrumEQ9uwEt9",
        "colab_type": "code",
        "colab": {
          "base_uri": "https://localhost:8080/",
          "height": 34
        },
        "outputId": "5732a60e-70de-4faa-906e-145ced06afff"
      },
      "source": [
        "if noodle == \"YES\" :\n",
        "        if sauce == \"YES\" :\n",
        "                print(\"讓我們來做義大利麵吧!\")"
      ],
      "execution_count": 14,
      "outputs": [
        {
          "output_type": "stream",
          "text": [
            "讓我們來做義大利麵吧!\n"
          ],
          "name": "stdout"
        }
      ]
    },
    {
      "cell_type": "code",
      "metadata": {
        "id": "NPmSV7LdwLuB",
        "colab_type": "code",
        "colab": {}
      },
      "source": [
        "#更簡潔的寫法"
      ],
      "execution_count": 0,
      "outputs": []
    },
    {
      "cell_type": "code",
      "metadata": {
        "id": "edPaky82wUpq",
        "colab_type": "code",
        "colab": {
          "base_uri": "https://localhost:8080/",
          "height": 34
        },
        "outputId": "f4fe862f-7a3c-44f1-9c2f-61512494a71c"
      },
      "source": [
        "if noodle == \"YES\" and sauce == \"YES\":\n",
        "    print(\"讓我們來做義大利麵吧!\")"
      ],
      "execution_count": 15,
      "outputs": [
        {
          "output_type": "stream",
          "text": [
            "讓我們來做義大利麵吧!\n"
          ],
          "name": "stdout"
        }
      ]
    },
    {
      "cell_type": "code",
      "metadata": {
        "id": "X_Qjy3ALwXqp",
        "colab_type": "code",
        "colab": {}
      },
      "source": [
        ""
      ],
      "execution_count": 0,
      "outputs": []
    }
  ]
}