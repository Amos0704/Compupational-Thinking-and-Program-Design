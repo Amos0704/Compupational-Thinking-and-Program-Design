{
  "nbformat": 4,
  "nbformat_minor": 0,
  "metadata": {
    "colab": {
      "name": "Week14-2.ipynb",
      "provenance": []
    },
    "kernelspec": {
      "name": "python3",
      "display_name": "Python 3"
    }
  },
  "cells": [
    {
      "cell_type": "code",
      "metadata": {
        "id": "Jalek-5dB8Nh",
        "colab_type": "code",
        "colab": {
          "base_uri": "https://localhost:8080/",
          "height": 187
        },
        "outputId": "144cf489-22f4-44ea-bbd4-d4ada9d00363"
      },
      "source": [
        "n = 0\n",
        "while n < 10:\n",
        "        print(\"Hello，你好嗎！\")\n",
        "        n = n + 1"
      ],
      "execution_count": 1,
      "outputs": [
        {
          "output_type": "stream",
          "text": [
            "Hello，你好嗎！\n",
            "Hello，你好嗎！\n",
            "Hello，你好嗎！\n",
            "Hello，你好嗎！\n",
            "Hello，你好嗎！\n",
            "Hello，你好嗎！\n",
            "Hello，你好嗎！\n",
            "Hello，你好嗎！\n",
            "Hello，你好嗎！\n",
            "Hello，你好嗎！\n"
          ],
          "name": "stdout"
        }
      ]
    },
    {
      "cell_type": "code",
      "metadata": {
        "id": "SI6q_FxmCl1k",
        "colab_type": "code",
        "colab": {}
      },
      "source": [
        ""
      ],
      "execution_count": 0,
      "outputs": []
    }
  ]
}