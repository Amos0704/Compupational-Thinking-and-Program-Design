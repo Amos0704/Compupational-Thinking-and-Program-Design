{
  "nbformat": 4,
  "nbformat_minor": 0,
  "metadata": {
    "colab": {
      "name": "Week14-1.ipynb",
      "provenance": []
    },
    "kernelspec": {
      "name": "python3",
      "display_name": "Python 3"
    }
  },
  "cells": [
    {
      "cell_type": "code",
      "metadata": {
        "id": "4WqVUJcQBWpl",
        "colab_type": "code",
        "colab": {
          "base_uri": "https://localhost:8080/",
          "height": 34
        },
        "outputId": "9b67f2c2-7de8-46b1-ade8-10acc21b2892"
      },
      "source": [
        "height = float(input(\"請輸入身高,單位為公尺\"))"
      ],
      "execution_count": 1,
      "outputs": [
        {
          "output_type": "stream",
          "text": [
            "請輸入身高,單位為公尺1.7\n"
          ],
          "name": "stdout"
        }
      ]
    },
    {
      "cell_type": "code",
      "metadata": {
        "id": "3sUyZkGeBf6o",
        "colab_type": "code",
        "colab": {
          "base_uri": "https://localhost:8080/",
          "height": 34
        },
        "outputId": "40c37dc8-083f-4bac-f6b8-0203b58a77e3"
      },
      "source": [
        "weight = float(input(\"請輸入體重,單位為公斤\"))"
      ],
      "execution_count": 2,
      "outputs": [
        {
          "output_type": "stream",
          "text": [
            "請輸入體重,單位為公斤90\n"
          ],
          "name": "stdout"
        }
      ]
    },
    {
      "cell_type": "code",
      "metadata": {
        "id": "E4KVTOtZBn0p",
        "colab_type": "code",
        "colab": {
          "base_uri": "https://localhost:8080/",
          "height": 51
        },
        "outputId": "17b69db5-7475-46cc-d5a1-4cccea196bcd"
      },
      "source": [
        "BMI = weight / (height * height)\n",
        "print(BMI)\n",
        "if BMI >= 30:\n",
        "        print(\"肥胖\")\n",
        "if 30 > BMI >= 25:\n",
        "        print(\"體重過重\")\n",
        "if 25 > BMI >= 18.5:\n",
        "        print(\"體重正常(健康體重)\")\n",
        "if 18.5 > BMI >= 16:\n",
        "        print(\"體重過輕\")"
      ],
      "execution_count": 3,
      "outputs": [
        {
          "output_type": "stream",
          "text": [
            "31.14186851211073\n",
            "肥胖\n"
          ],
          "name": "stdout"
        }
      ]
    },
    {
      "cell_type": "code",
      "metadata": {
        "id": "GtIp2Z4WBtkN",
        "colab_type": "code",
        "colab": {}
      },
      "source": [
        ""
      ],
      "execution_count": 0,
      "outputs": []
    }
  ]
}